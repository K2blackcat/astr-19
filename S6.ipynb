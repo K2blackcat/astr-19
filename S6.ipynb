{
 "cells": [
  {
   "cell_type": "markdown",
   "id": "a3f49874-528f-45e9-a88b-d6b88debc559",
   "metadata": {},
   "source": [
    "# return sin(x) and cos(x) function in Python"
   ]
  },
  {
   "cell_type": "code",
   "execution_count": 1,
   "id": "3f53f4a3-6385-40f0-8070-bfce6dead1ba",
   "metadata": {},
   "outputs": [],
   "source": [
    "import math\n",
    "import numpy as np\n",
    "def sin(x):\n",
    "    return math.sin(x)"
   ]
  },
  {
   "cell_type": "markdown",
   "id": "008cee2f-0329-47c8-ad40-5ea05e5ecb4f",
   "metadata": {},
   "source": [
    "# function sin(x) take a value x and return sin(x)"
   ]
  },
  {
   "cell_type": "code",
   "execution_count": 2,
   "id": "f82377fc-852a-460c-87a0-f94dc74f4171",
   "metadata": {},
   "outputs": [],
   "source": [
    "def cos(x):\n",
    "    return math.cos(x)"
   ]
  },
  {
   "cell_type": "markdown",
   "id": "d273f69a-0c55-4eff-8d59-ca459873ea57",
   "metadata": {},
   "source": [
    "# function cos(x) take a value x and return cos(x)"
   ]
  },
  {
   "cell_type": "code",
   "execution_count": 3,
   "id": "28654746-f84c-43cf-92f9-93e0393be4b4",
   "metadata": {
    "scrolled": true
   },
   "outputs": [],
   "source": [
    "x_value = np.linspace(0, 2, 1000)\n",
    "\n",
    "sin_values= [sin(x) for x in x_value]\n",
    "cos_values= [cos(x) for x in x_value]"
   ]
  },
  {
   "cell_type": "markdown",
   "id": "2f2bf2e3-65cd-407a-95ca-15058f69f94f",
   "metadata": {},
   "source": [
    "# using np.linspace to create 1000 evenly spaced value of 'x' between 0 and 2\n",
    "# and using sin_value and cos_value to count sin(x) and cos(x) values"
   ]
  },
  {
   "cell_type": "code",
   "execution_count": 4,
   "id": "cc971a99-d08c-4c97-bcbd-0e69af2cbd82",
   "metadata": {},
   "outputs": [
    {
     "name": "stdout",
     "output_type": "stream",
     "text": [
      "         x         sin(x)         cos(x)\n",
      "----------------------------------------\n",
      "  0.000000       0.000000       1.000000\n",
      "  0.002002       0.002002       0.999998\n",
      "  0.004004       0.004004       0.999992\n",
      "  0.006006       0.006006       0.999982\n",
      "  0.008008       0.008008       0.999968\n",
      "  0.010010       0.010010       0.999950\n",
      "  0.012012       0.012012       0.999928\n",
      "  0.014014       0.014014       0.999902\n",
      "  0.016016       0.016015       0.999872\n",
      "  0.018018       0.018017       0.999838\n"
     ]
    }
   ],
   "source": [
    "print(f\"{'x':>10}{'sin(x)':>15}{'cos(x)':>15}\")\n",
    "print(\"-\" * 40)\n",
    "\n",
    "for i in range(10):\n",
    "    print(f\"{x_value[i]:>10.6f}{sin_values[i]:>15.6f}{cos_values[i]:>15.6f}\")"
   ]
  },
  {
   "cell_type": "markdown",
   "id": "5836181a-b0d2-4041-b7b8-0337319a822f",
   "metadata": {},
   "source": [
    "# display the first 10 values of \"x\" \"sin(x)\" and \"cos(x)\""
   ]
  }
 ],
 "metadata": {
  "kernelspec": {
   "display_name": "Python 3 (ipykernel)",
   "language": "python",
   "name": "python3"
  },
  "language_info": {
   "codemirror_mode": {
    "name": "ipython",
    "version": 3
   },
   "file_extension": ".py",
   "mimetype": "text/x-python",
   "name": "python",
   "nbconvert_exporter": "python",
   "pygments_lexer": "ipython3",
   "version": "3.12.5"
  }
 },
 "nbformat": 4,
 "nbformat_minor": 5
}
